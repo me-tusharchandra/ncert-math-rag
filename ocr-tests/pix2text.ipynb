{
 "cells": [
  {
   "cell_type": "code",
   "execution_count": 3,
   "metadata": {},
   "outputs": [
    {
     "name": "stdout",
     "output_type": "stream",
     "text": [
      "\n",
      "0: 1024x704 3 titles, 7 plain texts, 2 abandons, 1 figure, 1 figure_caption, 639.3ms\n",
      "Speed: 5.2ms preprocess, 639.3ms inference, 0.5ms postprocess per image at shape (1, 3, 1024, 704)\n",
      "Loading /Users/tusharchandra/.pix2text/1.1/mfd-onnx/mfd-v20240618.onnx for ONNX Runtime inference...\n",
      "Using ONNX Runtime CPUExecutionProvider\n",
      "\n",
      "0: 128x768 1 embedding, 41.8ms\n",
      "Speed: 2.4ms preprocess, 41.8ms inference, 11.4ms postprocess per image at shape (1, 3, 128, 768)\n"
     ]
    },
    {
     "name": "stderr",
     "output_type": "stream",
     "text": [
      "100%|██████████| 1/1 [00:00<00:00,  4.95it/s]\n"
     ]
    },
    {
     "name": "stdout",
     "output_type": "stream",
     "text": [
      "\n",
      "WARNING ⚠️ imgsz=[473, 768] must be multiple of max stride 32, updating to [480, 768]\n",
      "0: 480x768 2 embeddings, 121.4ms\n",
      "Speed: 1.9ms preprocess, 121.4ms inference, 12.0ms postprocess per image at shape (1, 3, 480, 768)\n"
     ]
    },
    {
     "name": "stderr",
     "output_type": "stream",
     "text": [
      "100%|██████████| 2/2 [00:00<00:00,  4.59it/s]\n"
     ]
    },
    {
     "name": "stdout",
     "output_type": "stream",
     "text": [
      "\n",
      "WARNING ⚠️ imgsz=[360, 768] must be multiple of max stride 32, updating to [384, 768]\n",
      "0: 384x768 2 isolateds, 105.0ms\n",
      "Speed: 1.5ms preprocess, 105.0ms inference, 10.5ms postprocess per image at shape (1, 3, 384, 768)\n"
     ]
    },
    {
     "name": "stderr",
     "output_type": "stream",
     "text": [
      "100%|██████████| 1/1 [00:00<00:00,  1.00it/s]"
     ]
    },
    {
     "name": "stdout",
     "output_type": "stream",
     "text": [
      "\n",
      "WARNING ⚠️ imgsz=[115, 768] must be multiple of max stride 32, updating to [128, 768]\n"
     ]
    },
    {
     "name": "stderr",
     "output_type": "stream",
     "text": [
      "\n"
     ]
    },
    {
     "name": "stdout",
     "output_type": "stream",
     "text": [
      "0: 128x768 (no detections), 40.0ms\n",
      "Speed: 1.1ms preprocess, 40.0ms inference, 2.4ms postprocess per image at shape (1, 3, 128, 768)\n"
     ]
    },
    {
     "name": "stderr",
     "output_type": "stream",
     "text": [
      "0it [00:00, ?it/s]\n"
     ]
    },
    {
     "name": "stdout",
     "output_type": "stream",
     "text": [
      "\n",
      "WARNING ⚠️ imgsz=[85, 1152] must be multiple of max stride 32, updating to [96, 1152]\n",
      "0: 96x1152 (no detections), 45.1ms\n",
      "Speed: 1.0ms preprocess, 45.1ms inference, 2.7ms postprocess per image at shape (1, 3, 96, 1152)\n"
     ]
    },
    {
     "name": "stderr",
     "output_type": "stream",
     "text": [
      "0it [00:00, ?it/s]\n"
     ]
    },
    {
     "name": "stdout",
     "output_type": "stream",
     "text": [
      "\n",
      "WARNING ⚠️ imgsz=[89, 1152] must be multiple of max stride 32, updating to [96, 1152]\n",
      "0: 96x1152 1 embedding, 47.7ms\n",
      "Speed: 1.2ms preprocess, 47.7ms inference, 10.2ms postprocess per image at shape (1, 3, 96, 1152)\n"
     ]
    },
    {
     "name": "stderr",
     "output_type": "stream",
     "text": [
      "100%|██████████| 1/1 [00:00<00:00,  3.75it/s]\n"
     ]
    },
    {
     "name": "stdout",
     "output_type": "stream",
     "text": [
      "\n",
      "WARNING ⚠️ imgsz=[470, 1152] must be multiple of max stride 32, updating to [480, 1152]\n",
      "0: 480x1152 8 embeddings, 1 isolated, 193.4ms\n",
      "Speed: 7.6ms preprocess, 193.4ms inference, 52.0ms postprocess per image at shape (1, 3, 480, 1152)\n"
     ]
    },
    {
     "name": "stderr",
     "output_type": "stream",
     "text": [
      "100%|██████████| 6/6 [00:04<00:00,  1.29it/s]\n"
     ]
    },
    {
     "name": "stdout",
     "output_type": "stream",
     "text": [
      "\n",
      "WARNING ⚠️ imgsz=[1122, 768] must be multiple of max stride 32, updating to [1152, 768]\n",
      "0: 1152x768 (no detections), 297.3ms\n",
      "Speed: 7.7ms preprocess, 297.3ms inference, 17.1ms postprocess per image at shape (1, 3, 1152, 768)\n"
     ]
    },
    {
     "name": "stderr",
     "output_type": "stream",
     "text": [
      "0it [00:00, ?it/s]\n"
     ]
    },
    {
     "name": "stdout",
     "output_type": "stream",
     "text": [
      "\n",
      "0: 1024x704 5 plain texts, 2 abandons, 2 figures, 1 figure_caption, 1 isolate_formula, 638.4ms\n",
      "Speed: 3.9ms preprocess, 638.4ms inference, 1.5ms postprocess per image at shape (1, 3, 1024, 704)\n",
      "\n",
      "WARNING ⚠️ imgsz=[175, 1152] must be multiple of max stride 32, updating to [192, 1152]\n",
      "0: 192x1152 1 embedding, 83.1ms\n",
      "Speed: 4.7ms preprocess, 83.1ms inference, 47.1ms postprocess per image at shape (1, 3, 192, 1152)\n"
     ]
    },
    {
     "name": "stderr",
     "output_type": "stream",
     "text": [
      "100%|██████████| 1/1 [00:00<00:00,  3.40it/s]\n"
     ]
    },
    {
     "name": "stdout",
     "output_type": "stream",
     "text": [
      "\n",
      "WARNING ⚠️ imgsz=[504, 1152] must be multiple of max stride 32, updating to [512, 1152]\n",
      "0: 512x1152 17 embeddings, 2 isolateds, 213.6ms\n",
      "Speed: 7.8ms preprocess, 213.6ms inference, 56.5ms postprocess per image at shape (1, 3, 512, 1152)\n"
     ]
    },
    {
     "name": "stderr",
     "output_type": "stream",
     "text": [
      "100%|██████████| 16/16 [00:08<00:00,  1.92it/s]\n"
     ]
    },
    {
     "name": "stdout",
     "output_type": "stream",
     "text": [
      "\n",
      "WARNING ⚠️ imgsz=[346, 1152] must be multiple of max stride 32, updating to [352, 1152]\n",
      "0: 352x1152 1 embedding, 146.0ms\n",
      "Speed: 5.6ms preprocess, 146.0ms inference, 32.4ms postprocess per image at shape (1, 3, 352, 1152)\n"
     ]
    },
    {
     "name": "stderr",
     "output_type": "stream",
     "text": [
      "100%|██████████| 1/1 [00:00<00:00,  4.00it/s]\n",
      "100%|██████████| 1/1 [00:00<00:00,  1.57it/s]"
     ]
    },
    {
     "name": "stdout",
     "output_type": "stream",
     "text": [
      "\n",
      "WARNING ⚠️ imgsz=[242, 1152] must be multiple of max stride 32, updating to [256, 1152]\n",
      "0: 256x1152 2 embeddings, 110.2ms\n",
      "Speed: 6.0ms preprocess, 110.2ms inference, 34.9ms postprocess per image at shape (1, 3, 256, 1152)\n"
     ]
    },
    {
     "name": "stderr",
     "output_type": "stream",
     "text": [
      "\n",
      "100%|██████████| 2/2 [00:00<00:00,  2.59it/s]\n"
     ]
    },
    {
     "name": "stdout",
     "output_type": "stream",
     "text": [
      "\n",
      "WARNING ⚠️ imgsz=[98, 768] must be multiple of max stride 32, updating to [128, 768]\n",
      "0: 128x768 (no detections), 42.4ms\n",
      "Speed: 0.9ms preprocess, 42.4ms inference, 2.2ms postprocess per image at shape (1, 3, 128, 768)\n"
     ]
    },
    {
     "name": "stderr",
     "output_type": "stream",
     "text": [
      "0it [00:00, ?it/s]\n"
     ]
    },
    {
     "name": "stdout",
     "output_type": "stream",
     "text": [
      "\n",
      "WARNING ⚠️ imgsz=[342, 768] must be multiple of max stride 32, updating to [352, 768]\n",
      "0: 352x768 1 isolated, 106.3ms\n",
      "Speed: 5.4ms preprocess, 106.3ms inference, 33.7ms postprocess per image at shape (1, 3, 352, 768)\n"
     ]
    },
    {
     "name": "stderr",
     "output_type": "stream",
     "text": [
      "100%|██████████| 1/1 [00:00<00:00,  2.41it/s]\n"
     ]
    },
    {
     "name": "stdout",
     "output_type": "stream",
     "text": [
      "\n",
      "WARNING ⚠️ imgsz=[1122, 768] must be multiple of max stride 32, updating to [1152, 768]\n",
      "0: 1152x768 (no detections), 298.0ms\n",
      "Speed: 3.4ms preprocess, 298.0ms inference, 3.6ms postprocess per image at shape (1, 3, 1152, 768)\n"
     ]
    },
    {
     "name": "stderr",
     "output_type": "stream",
     "text": [
      "0it [00:00, ?it/s]\n"
     ]
    },
    {
     "data": {
      "text/plain": [
       "\"## INVERSE TRIGONOMETRIC FUNCTIONS\\n\\nMathematics, in general, is fundamentally the science $o f$ self-evident things — FELIX KLEIN\\n\\n## 2.1 Introduction\\n\\nIn Chapter 1, we have studied that the inverse of a function $f,$ denoted by $f^{-1}$ , exists if fis one-one and onto. There are many functions which are not one-one, onto or both and hence we can not talk of their inverses. In Class XI, we studied that trigonometric functions are not one-one and onto over their natural domains and ranges and hence their inverses do not exist. In this chapter, we shall study about the restrictions on domains and ranges of trigonometric functions which ensure the existence of their inverses and observe their behaviour through graphical representations. Besides, some elementary properties will also be discussed.\\n\\n![](figures/0-3-FIGURE.jpg)\\n\\n$$\\n\\\\begin{array} {c} {\\\\mathrm{A r y a b h a t a}} \\\\\\\\ {( 4 7 6 \\\\mathrm{-5 5 0 ~ A. ~ D.} )} \\\\\\\\ \\\\end{array}\\n$$\\n\\nThe inverse trigonometric functions play an important role in calculus for they serve to define many integrals.\\n\\nivesetrionomricfinctins sal usedinsceneand nginern\\n\\n## 2.2 Basic Concepts\\n\\nIn Class $\\\\mathrm{X I}$ we avesnudedtigonomericfnions, wichaedefined a folos:\\n\\nsine function, i.e., sine : $\\\\mathbf{R} \\\\to[-1, 1 ]$ \\ncosine function, i.e., cos : $\\\\mathbf{R} \\\\to[-1, \\\\, 1 ]$ \\ntangent function, i.c., t\\n$$\\n\\\\operatorname{a n} : \\\\mathbf{R}-\\\\{x : x=( 2 n+1 ) \\\\, \\\\, \\\\frac{\\\\pi} {2} \\\\,, n \\\\in\\\\mathbf{Z} \\\\} \\\\to\\\\mathbf{R}\\n$$\\ncotangent function, ice., cot : $\\\\mathbf{R}-\\\\{\\\\mathbf{x} : x=n \\\\pi, \\\\mathbf{} n \\\\in\\\\mathbf{Z} \\\\} \\\\to\\\\mathbf{R}$ \\nsecant function, i.e., sec $: \\\\mathbf{R}-\\\\{\\\\, x : x=( 2 n+1 ) \\\\, \\\\, \\\\frac{\\\\pi} {2} \\\\,, \\\\, n \\\\in\\\\mathbf{Z} \\\\} \\\\to\\\\mathbf{R}-(-1, \\\\, 1 )$ cosecant function, i.e., cosec $: \\\\mathbf{R}-\\\\{x : x=n \\\\pi, \\\\, \\\\, \\\\, n \\\\in\\\\mathbf{Z} \\\\} \\\\to\\\\mathbf{R}-(-1, \\\\, 1 )$ restricted to any of the intervals 0 , . i r. 2 i etc., is iecivce with range as $[-1, \\\\, 1 ]$ . We can, therefore, define the inverse of cosine function in each of these intervals. We denote the inverse of the cosine function by cos (arc cosine function),\\n\\nSince, cosec $x=\\\\frac{1} {\\\\operatorname{s i n} x}$ , the domain of the cosec function is the set $\\\\{x : x \\\\in{\\\\bf R}$ and X≠ nT, $n \\\\in{\\\\bf Z} \\\\}$ and the range is the set $\\\\{y : y \\\\in{\\\\bf R}$ , $y \\\\geq1$ or $y \\\\leq-1 \\\\} \\\\mathrm{~ i. e.}$ , the set $R-(-1, ~ 1 )$ . It means that $y=$ cosec $x$ assumes all real values except $- 1 < y < 1$ and is not defined for integral multiple of $\\\\pi$ . If we restrict the domain of cosec function to\\n $\\\\left[-\\\\frac{\\\\pi} {2}, \\\\frac{\\\\pi} {2} \\\\right]$ -{0}, then itis one to one and onto with it range as the set $\\\\mathbf{R-} (-1, 1 )$ Atually,\\ncosec function restricted to any of the i\\n$$\\n\\\\mathrm{n t e r v a l s} \\\\, \\\\left[ \\\\frac{-3 \\\\pi} {2}, \\\\frac{-\\\\pi} {2} \\\\right] \\\\!-\\\\{-\\\\pi\\\\} \\\\,, \\\\, \\\\left[ \\\\frac{-\\\\pi} {2}, \\\\frac{\\\\pi} {2} \\\\right]-\\\\{0 \\\\},\\n$$\\n$$\\n\\\\left[ \\\\frac{\\\\pi} {2}, \\\\frac{3 \\\\pi} {2} \\\\right] \\\\!-\\\\left\\\\{\\\\pi\\\\right\\\\}_{\\\\mathrm{\\\\scriptsize~ e t c., ~ i s ~ b i j e c t i v e ~ a n d ~ i t s ~ r a n g e ~ i s ~ t h e ~ s e t ~ o}}\\n$$\\n $R-(-1, ~ 1 )$ .\\nali ea numbrs\\n\\nThus, cosl is a function whose domain is [-1, 1] and range could be any of the intervals [-n, 0], [O, t], [r, 2t] etc. Corresponding to each such interval, we get a branch of the function cos -. The branch with range $[ 0, \\\\pi]$ is called the principal value branch of the function cosl. We write\\n\\n$$\\n\\\\operatorname{c o s}^{-1} : [-1, \\\\, 1 ] \\\\to[ 0, \\\\, \\\\pi].\\n$$\\n\\nThe graph of the function given $y=\\\\operatorname{c o s}^{-1} x$ can be drawn in the same way as discussed about the graph of y = sin- x. The\\ngivenin Fig $2. 2 \\\\mathrm{~ ( i )}$ and (i)\\n\\n![](figures/3-5-FIGURE.jpg)\\n\\nLet us now discuss and sec-'x as follows:\\n\\n![](figures/3-7-FIGURE.jpg)\\n\\n$$\\n\\\\mathrm{F i g ~ 2. 2 ~ ( i i )}\\n$$\\n\\n\""
      ]
     },
     "execution_count": 3,
     "metadata": {},
     "output_type": "execute_result"
    }
   ],
   "source": [
    "from pix2text import Pix2Text\n",
    "\n",
    "img_fp = '/Users/tusharchandra/workspace/repos/ncert-rag/pdfs/lemh102.pdf'\n",
    "p2t = Pix2Text.from_config()\n",
    "doc = p2t.recognize_pdf(img_fp, page_numbers=[0, 3])\n",
    "doc.to_markdown('output-md')"
   ]
  },
  {
   "cell_type": "code",
   "execution_count": 4,
   "metadata": {},
   "outputs": [
    {
     "name": "stdout",
     "output_type": "stream",
     "text": [
      "\n",
      "0: 1024x704 3 titles, 7 plain texts, 2 abandons, 1 figure, 1 figure_caption, 616.9ms\n",
      "Speed: 4.7ms preprocess, 616.9ms inference, 0.4ms postprocess per image at shape (1, 3, 1024, 704)\n",
      "Loading /Users/tusharchandra/.pix2text/1.1/mfd-onnx/mfd-v20240618.onnx for ONNX Runtime inference...\n",
      "Using ONNX Runtime CPUExecutionProvider\n",
      "\n",
      "0: 128x768 1 embedding, 40.6ms\n",
      "Speed: 1.7ms preprocess, 40.6ms inference, 10.5ms postprocess per image at shape (1, 3, 128, 768)\n"
     ]
    },
    {
     "name": "stderr",
     "output_type": "stream",
     "text": [
      "100%|██████████| 1/1 [00:00<00:00,  4.79it/s]\n"
     ]
    },
    {
     "name": "stdout",
     "output_type": "stream",
     "text": [
      "\n",
      "WARNING ⚠️ imgsz=[473, 768] must be multiple of max stride 32, updating to [480, 768]\n",
      "0: 480x768 2 embeddings, 140.0ms\n",
      "Speed: 2.5ms preprocess, 140.0ms inference, 9.9ms postprocess per image at shape (1, 3, 480, 768)\n"
     ]
    },
    {
     "name": "stderr",
     "output_type": "stream",
     "text": [
      "100%|██████████| 2/2 [00:00<00:00,  4.36it/s]\n"
     ]
    },
    {
     "name": "stdout",
     "output_type": "stream",
     "text": [
      "\n",
      "WARNING ⚠️ imgsz=[360, 768] must be multiple of max stride 32, updating to [384, 768]\n",
      "0: 384x768 2 isolateds, 108.5ms\n",
      "Speed: 1.5ms preprocess, 108.5ms inference, 9.3ms postprocess per image at shape (1, 3, 384, 768)\n"
     ]
    },
    {
     "name": "stderr",
     "output_type": "stream",
     "text": [
      "100%|██████████| 1/1 [00:01<00:00,  1.02s/it]\n"
     ]
    },
    {
     "name": "stdout",
     "output_type": "stream",
     "text": [
      "\n",
      "WARNING ⚠️ imgsz=[115, 768] must be multiple of max stride 32, updating to [128, 768]\n",
      "0: 128x768 (no detections), 41.2ms\n",
      "Speed: 1.3ms preprocess, 41.2ms inference, 2.6ms postprocess per image at shape (1, 3, 128, 768)\n"
     ]
    },
    {
     "name": "stderr",
     "output_type": "stream",
     "text": [
      "0it [00:00, ?it/s]\n"
     ]
    },
    {
     "name": "stdout",
     "output_type": "stream",
     "text": [
      "\n",
      "WARNING ⚠️ imgsz=[85, 1152] must be multiple of max stride 32, updating to [96, 1152]\n",
      "0: 96x1152 (no detections), 46.0ms\n",
      "Speed: 1.1ms preprocess, 46.0ms inference, 2.9ms postprocess per image at shape (1, 3, 96, 1152)\n"
     ]
    },
    {
     "name": "stderr",
     "output_type": "stream",
     "text": [
      "0it [00:00, ?it/s]\n"
     ]
    },
    {
     "name": "stdout",
     "output_type": "stream",
     "text": [
      "\n",
      "WARNING ⚠️ imgsz=[89, 1152] must be multiple of max stride 32, updating to [96, 1152]\n",
      "0: 96x1152 1 embedding, 64.1ms\n",
      "Speed: 1.7ms preprocess, 64.1ms inference, 10.7ms postprocess per image at shape (1, 3, 96, 1152)\n"
     ]
    },
    {
     "name": "stderr",
     "output_type": "stream",
     "text": [
      "100%|██████████| 1/1 [00:00<00:00,  2.69it/s]\n"
     ]
    },
    {
     "name": "stdout",
     "output_type": "stream",
     "text": [
      "\n",
      "WARNING ⚠️ imgsz=[470, 1152] must be multiple of max stride 32, updating to [480, 1152]\n",
      "0: 480x1152 8 embeddings, 1 isolated, 206.9ms\n",
      "Speed: 5.2ms preprocess, 206.9ms inference, 10.9ms postprocess per image at shape (1, 3, 480, 1152)\n"
     ]
    },
    {
     "name": "stderr",
     "output_type": "stream",
     "text": [
      "100%|██████████| 6/6 [00:04<00:00,  1.24it/s]\n"
     ]
    },
    {
     "name": "stdout",
     "output_type": "stream",
     "text": [
      "\n",
      "WARNING ⚠️ imgsz=[1122, 768] must be multiple of max stride 32, updating to [1152, 768]\n",
      "0: 1152x768 (no detections), 450.7ms\n",
      "Speed: 4.8ms preprocess, 450.7ms inference, 2.9ms postprocess per image at shape (1, 3, 1152, 768)\n"
     ]
    },
    {
     "name": "stderr",
     "output_type": "stream",
     "text": [
      "0it [00:00, ?it/s]\n"
     ]
    },
    {
     "name": "stdout",
     "output_type": "stream",
     "text": [
      "\n",
      "0: 1024x704 5 plain texts, 2 abandons, 2 figures, 1 figure_caption, 1 isolate_formula, 739.3ms\n",
      "Speed: 2.9ms preprocess, 739.3ms inference, 0.8ms postprocess per image at shape (1, 3, 1024, 704)\n",
      "\n",
      "WARNING ⚠️ imgsz=[175, 1152] must be multiple of max stride 32, updating to [192, 1152]\n",
      "0: 192x1152 1 embedding, 90.6ms\n",
      "Speed: 2.9ms preprocess, 90.6ms inference, 15.1ms postprocess per image at shape (1, 3, 192, 1152)\n"
     ]
    },
    {
     "name": "stderr",
     "output_type": "stream",
     "text": [
      "100%|██████████| 1/1 [00:00<00:00,  3.27it/s]\n"
     ]
    },
    {
     "name": "stdout",
     "output_type": "stream",
     "text": [
      "\n",
      "WARNING ⚠️ imgsz=[504, 1152] must be multiple of max stride 32, updating to [512, 1152]\n",
      "0: 512x1152 17 embeddings, 2 isolateds, 225.7ms\n",
      "Speed: 3.7ms preprocess, 225.7ms inference, 13.3ms postprocess per image at shape (1, 3, 512, 1152)\n"
     ]
    },
    {
     "name": "stderr",
     "output_type": "stream",
     "text": [
      "100%|██████████| 16/16 [00:09<00:00,  1.69it/s]\n"
     ]
    },
    {
     "name": "stdout",
     "output_type": "stream",
     "text": [
      "\n",
      "WARNING ⚠️ imgsz=[346, 1152] must be multiple of max stride 32, updating to [352, 1152]\n",
      "0: 352x1152 1 embedding, 163.0ms\n",
      "Speed: 2.8ms preprocess, 163.0ms inference, 12.1ms postprocess per image at shape (1, 3, 352, 1152)\n"
     ]
    },
    {
     "name": "stderr",
     "output_type": "stream",
     "text": [
      "100%|██████████| 1/1 [00:00<00:00,  3.41it/s]\n",
      "100%|██████████| 1/1 [00:00<00:00,  1.32it/s]"
     ]
    },
    {
     "name": "stdout",
     "output_type": "stream",
     "text": [
      "\n",
      "WARNING ⚠️ imgsz=[242, 1152] must be multiple of max stride 32, updating to [256, 1152]\n",
      "0: 256x1152 2 embeddings, 129.5ms\n",
      "Speed: 2.2ms preprocess, 129.5ms inference, 11.7ms postprocess per image at shape (1, 3, 256, 1152)\n"
     ]
    },
    {
     "name": "stderr",
     "output_type": "stream",
     "text": [
      "\n",
      "100%|██████████| 2/2 [00:00<00:00,  2.14it/s]\n"
     ]
    },
    {
     "name": "stdout",
     "output_type": "stream",
     "text": [
      "\n",
      "WARNING ⚠️ imgsz=[98, 768] must be multiple of max stride 32, updating to [128, 768]\n",
      "0: 128x768 (no detections), 48.4ms\n",
      "Speed: 1.6ms preprocess, 48.4ms inference, 3.1ms postprocess per image at shape (1, 3, 128, 768)\n"
     ]
    },
    {
     "name": "stderr",
     "output_type": "stream",
     "text": [
      "0it [00:00, ?it/s]\n"
     ]
    },
    {
     "name": "stdout",
     "output_type": "stream",
     "text": [
      "\n",
      "WARNING ⚠️ imgsz=[342, 768] must be multiple of max stride 32, updating to [352, 768]\n",
      "0: 352x768 1 isolated, 134.0ms\n",
      "Speed: 2.1ms preprocess, 134.0ms inference, 13.9ms postprocess per image at shape (1, 3, 352, 768)\n"
     ]
    },
    {
     "name": "stderr",
     "output_type": "stream",
     "text": [
      "100%|██████████| 1/1 [00:00<00:00,  1.90it/s]\n"
     ]
    },
    {
     "name": "stdout",
     "output_type": "stream",
     "text": [
      "\n",
      "WARNING ⚠️ imgsz=[1122, 768] must be multiple of max stride 32, updating to [1152, 768]\n",
      "0: 1152x768 (no detections), 545.5ms\n",
      "Speed: 6.9ms preprocess, 545.5ms inference, 5.7ms postprocess per image at shape (1, 3, 1152, 768)\n"
     ]
    },
    {
     "name": "stderr",
     "output_type": "stream",
     "text": [
      "0it [00:00, ?it/s]\n"
     ]
    },
    {
     "data": {
      "text/plain": [
       "\"## INVERSE TRIGONOMETRIC FUNCTIONS\\n\\nMathematics, in general, is fundamentally the science $o f$ self-evident things — FELIX KLEIN\\n\\n## 2.1 Introduction\\n\\nIn Chapter 1, we have studied that the inverse of a function $f,$ denoted by $f^{-1}$ , exists if fis one-one and onto. There are many functions which are not one-one, onto or both and hence we can not talk of their inverses. In Class XI, we studied that trigonometric functions are not one-one and onto over their natural domains and ranges and hence their inverses do not exist. In this chapter, we shall study about the restrictions on domains and ranges of trigonometric functions which ensure the existence of their inverses and observe their behaviour through graphical representations. Besides, some elementary properties will also be discussed.\\n\\n![](figures/0-3-FIGURE.jpg)\\n\\n$$\\n\\\\begin{array} {c} {\\\\mathrm{A r y a b h a t a}} \\\\\\\\ {( 4 7 6 \\\\mathrm{-5 5 0 ~ A. ~ D.} )} \\\\\\\\ \\\\end{array}\\n$$\\n\\nThe inverse trigonometric functions play an important role in calculus for they serve to define many integrals.\\n\\nivesetrionomricfinctins sal usedinsceneand nginern\\n\\n## 2.2 Basic Concepts\\n\\nIn Class $\\\\mathrm{X I}$ we avesnudedtigonomericfnions, wichaedefined a folos:\\n\\nsine function, i.e., sine : $\\\\mathbf{R} \\\\to[-1, 1 ]$ \\ncosine function, i.e., cos : $\\\\mathbf{R} \\\\to[-1, \\\\, 1 ]$ \\ntangent function, i.c., t\\n$$\\n\\\\operatorname{a n} : \\\\mathbf{R}-\\\\{x : x=( 2 n+1 ) \\\\, \\\\, \\\\frac{\\\\pi} {2} \\\\,, n \\\\in\\\\mathbf{Z} \\\\} \\\\to\\\\mathbf{R}\\n$$\\ncotangent function, ice., cot : $\\\\mathbf{R}-\\\\{\\\\mathbf{x} : x=n \\\\pi, \\\\mathbf{} n \\\\in\\\\mathbf{Z} \\\\} \\\\to\\\\mathbf{R}$ \\nsecant function, i.e., sec $: \\\\mathbf{R}-\\\\{\\\\, x : x=( 2 n+1 ) \\\\, \\\\, \\\\frac{\\\\pi} {2} \\\\,, \\\\, n \\\\in\\\\mathbf{Z} \\\\} \\\\to\\\\mathbf{R}-(-1, \\\\, 1 )$ cosecant function, i.e., cosec $: \\\\mathbf{R}-\\\\{x : x=n \\\\pi, \\\\, \\\\, \\\\, n \\\\in\\\\mathbf{Z} \\\\} \\\\to\\\\mathbf{R}-(-1, \\\\, 1 )$ restricted to any of the intervals 0 , . i r. 2 i etc., is iecivce with range as $[-1, \\\\, 1 ]$ . We can, therefore, define the inverse of cosine function in each of these intervals. We denote the inverse of the cosine function by cos (arc cosine function),\\n\\nSince, cosec $x=\\\\frac{1} {\\\\operatorname{s i n} x}$ , the domain of the cosec function is the set $\\\\{x : x \\\\in{\\\\bf R}$ and X≠ nT, $n \\\\in{\\\\bf Z} \\\\}$ and the range is the set $\\\\{y : y \\\\in{\\\\bf R}$ , $y \\\\geq1$ or $y \\\\leq-1 \\\\} \\\\mathrm{~ i. e.}$ , the set $R-(-1, ~ 1 )$ . It means that $y=$ cosec $x$ assumes all real values except $- 1 < y < 1$ and is not defined for integral multiple of $\\\\pi$ . If we restrict the domain of cosec function to\\n $\\\\left[-\\\\frac{\\\\pi} {2}, \\\\frac{\\\\pi} {2} \\\\right]$ -{0}, then itis one to one and onto with it range as the set $\\\\mathbf{R-} (-1, 1 )$ Atually,\\ncosec function restricted to any of the i\\n$$\\n\\\\mathrm{n t e r v a l s} \\\\, \\\\left[ \\\\frac{-3 \\\\pi} {2}, \\\\frac{-\\\\pi} {2} \\\\right] \\\\!-\\\\{-\\\\pi\\\\} \\\\,, \\\\, \\\\left[ \\\\frac{-\\\\pi} {2}, \\\\frac{\\\\pi} {2} \\\\right]-\\\\{0 \\\\},\\n$$\\n$$\\n\\\\left[ \\\\frac{\\\\pi} {2}, \\\\frac{3 \\\\pi} {2} \\\\right] \\\\!-\\\\left\\\\{\\\\pi\\\\right\\\\}_{\\\\mathrm{\\\\scriptsize~ e t c., ~ i s ~ b i j e c t i v e ~ a n d ~ i t s ~ r a n g e ~ i s ~ t h e ~ s e t ~ o}}\\n$$\\n $R-(-1, ~ 1 )$ .\\nali ea numbrs\\n\\nThus, cosl is a function whose domain is [-1, 1] and range could be any of the intervals [-n, 0], [O, t], [r, 2t] etc. Corresponding to each such interval, we get a branch of the function cos -. The branch with range $[ 0, \\\\pi]$ is called the principal value branch of the function cosl. We write\\n\\n$$\\n\\\\operatorname{c o s}^{-1} : [-1, \\\\, 1 ] \\\\to[ 0, \\\\, \\\\pi].\\n$$\\n\\nThe graph of the function given $y=\\\\operatorname{c o s}^{-1} x$ can be drawn in the same way as discussed about the graph of y = sin- x. The\\ngivenin Fig $2. 2 \\\\mathrm{~ ( i )}$ and (i)\\n\\n![](figures/3-5-FIGURE.jpg)\\n\\nLet us now discuss and sec-'x as follows:\\n\\n![](figures/3-7-FIGURE.jpg)\\n\\n$$\\n\\\\mathrm{F i g ~ 2. 2 ~ ( i i )}\\n$$\\n\\n\""
      ]
     },
     "execution_count": 4,
     "metadata": {},
     "output_type": "execute_result"
    }
   ],
   "source": [
    "from pix2text import Pix2Text\n",
    "\n",
    "img_fp = '/Users/tusharchandra/workspace/repos/ncert-rag/pdfs/lemh102.pdf'\n",
    "p2t = Pix2Text.from_config()\n",
    "out_md = p2t.recognize_pdf(\n",
    "    img_fp,\n",
    "    page_numbers=[0, 3],\n",
    "    table_as_image=True,\n",
    "    save_debug_res=f'./output-debug',\n",
    ")\n",
    "out_md.to_markdown('output-pdf-md')"
   ]
  }
 ],
 "metadata": {
  "kernelspec": {
   "display_name": "venv",
   "language": "python",
   "name": "python3"
  },
  "language_info": {
   "codemirror_mode": {
    "name": "ipython",
    "version": 3
   },
   "file_extension": ".py",
   "mimetype": "text/x-python",
   "name": "python",
   "nbconvert_exporter": "python",
   "pygments_lexer": "ipython3",
   "version": "3.11.12"
  }
 },
 "nbformat": 4,
 "nbformat_minor": 2
}
